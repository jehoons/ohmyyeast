{
 "cells": [
  {
   "cell_type": "markdown",
   "metadata": {},
   "source": [
    "# Yeast mating pathway \n",
    "Author: Je-Hoon Song email: <song.jehoon@gmail.com>"
   ]
  },
  {
   "cell_type": "code",
   "execution_count": 46,
   "metadata": {},
   "outputs": [],
   "source": [
    "# default settings for jupyter \n",
    "%reload_ext autoreload\n",
    "%autoreload 2\n",
    "%matplotlib inline  \n",
    "%config InlineBackend.figure_format = 'retina'\n",
    "import os \n",
    "import sys\n",
    "import numpy as np \n",
    "import pandas as pd \n",
    "pd.set_option(\"display.max_columns\", 100)\n",
    "# print(pd.get_option(\"display.max_columns\"))\n",
    "from ohmyyeast import datasets\n",
    "from ohmyyeast import engine \n",
    "# matplotlib \n",
    "import matplotlib\n",
    "import matplotlib.pyplot as plt "
   ]
  },
  {
   "cell_type": "markdown",
   "metadata": {},
   "source": [
    "### Load Optimization Data"
   ]
  },
  {
   "cell_type": "code",
   "execution_count": 98,
   "metadata": {},
   "outputs": [],
   "source": [
    "# 데이터를 불러들일때, 0, 1, 2에 대한 정의를 새롭게 하면 어떨지? \n",
    "data_optsnu = datasets.load_optsnu()"
   ]
  },
  {
   "cell_type": "code",
   "execution_count": 25,
   "metadata": {},
   "outputs": [],
   "source": [
    "data_pub = datasets.load_optpub()\n",
    "res = data_pub.groupby('AID')['fVal'].agg(['mean','std'])\n",
    "res2 = res.sort_values('mean').reset_index()"
   ]
  },
  {
   "cell_type": "markdown",
   "metadata": {},
   "source": [
    "### Global fitness and regional analysis "
   ]
  },
  {
   "cell_type": "code",
   "execution_count": 32,
   "metadata": {},
   "outputs": [
    {
     "data": {
      "text/plain": [
       "<matplotlib.axes._subplots.AxesSubplot at 0x7f482478fa58>"
      ]
     },
     "execution_count": 32,
     "metadata": {},
     "output_type": "execute_result"
    },
    {
     "data": {
      "image/png": "[encoded data removed]",
      "text/plain": [
       "<Figure size 432x288 with 1 Axes>"
      ]
     },
     "metadata": {
      "image/png": {
       "height": 250,
       "width": 390
      }
     },
     "output_type": "display_data"
    }
   ],
   "source": [
    "res3 = res2.rename(columns={'mean':'Fitness'})\n",
    "res3.plot(y='Fitness',yerr='std')\n",
    "# res3.plot(y=['Fitness'])"
   ]
  },
  {
   "cell_type": "markdown",
   "metadata": {},
   "source": [
    "Now are studying about the core structures. \n",
    "코어구조? 이것은 어떤 코어구조가 실험데이터를 가장 잘 만족하는지 조사한다."
   ]
  },
  {
   "cell_type": "code",
   "execution_count": 168,
   "metadata": {},
   "outputs": [],
   "source": [
    "def pattern_generator(k): \n",
    "    from itertools import combinations, permutations, product\n",
    "    thr_corestrt = 650\n",
    "    data_optsnu.columns\n",
    "    data_optsnu.head()\n",
    "    all_edges = ['e2','e3','e4','e5','e6','e7','e8','e9','e10']\n",
    "    unfixed_edges = ['e2','e3','e4','e6','e7','e9','e10']\n",
    "    kstrlist = list()\n",
    "    kstrlist_short = list() \n",
    "    for edge_key in combinations(unfixed_edges, k): \n",
    "        for edge_value in product([0,1,2], repeat=k):\n",
    "            templ = {'e2':'*','e3':'*','e4':'*','e5':'1!','e6':'*','e7':'*','e8':'1!','e9':'*','e10':'*'}\n",
    "            templ_short = {} \n",
    "            for ek, ev in zip(edge_key, edge_value):\n",
    "                templ[ek] = ev \n",
    "                templ_short[ek] = ev \n",
    "\n",
    "            kstrlist.append(templ)\n",
    "            kstrlist_short.append(templ_short)\n",
    "    return kstrlist, kstrlist_short"
   ]
  },
  {
   "cell_type": "code",
   "execution_count": 175,
   "metadata": {},
   "outputs": [
    {
     "data": {
      "text/plain": [
       "[{'e2': 0, 'e3': 0, 'e4': 0, 'e6': 0, 'e7': 0, 'e9': 0},\n",
       " {'e2': 0, 'e3': 0, 'e4': 0, 'e6': 0, 'e7': 0, 'e9': 1},\n",
       " {'e2': 0, 'e3': 0, 'e4': 0, 'e6': 0, 'e7': 0, 'e9': 2},\n",
       " {'e2': 0, 'e3': 0, 'e4': 0, 'e6': 0, 'e7': 1, 'e9': 0},\n",
       " {'e2': 0, 'e3': 0, 'e4': 0, 'e6': 0, 'e7': 1, 'e9': 1}]"
      ]
     },
     "execution_count": 175,
     "metadata": {},
     "output_type": "execute_result"
    }
   ],
   "source": [
    "# pattern can be generated by following code: \n",
    "kstr, kstr_short = pattern_generator(6)\n",
    "kstr_short[0:5]"
   ]
  },
  {
   "cell_type": "code",
   "execution_count": 174,
   "metadata": {},
   "outputs": [
    {
     "data": {
      "text/plain": [
       "[{'e10': '*',\n",
       "  'e2': 0,\n",
       "  'e3': 0,\n",
       "  'e4': 0,\n",
       "  'e5': '1!',\n",
       "  'e6': 0,\n",
       "  'e7': 0,\n",
       "  'e8': '1!',\n",
       "  'e9': 0},\n",
       " {'e10': '*',\n",
       "  'e2': 0,\n",
       "  'e3': 0,\n",
       "  'e4': 0,\n",
       "  'e5': '1!',\n",
       "  'e6': 0,\n",
       "  'e7': 0,\n",
       "  'e8': '1!',\n",
       "  'e9': 1}]"
      ]
     },
     "execution_count": 174,
     "metadata": {},
     "output_type": "execute_result"
    }
   ],
   "source": [
    "# pattern can be generated by following code: \n",
    "kstr[0:2]"
   ]
  },
  {
   "cell_type": "markdown",
   "metadata": {},
   "source": [
    "## General 3-node model for Mating Pathway: "
   ]
  },
  {
   "cell_type": "raw",
   "metadata": {},
   "source": [
    "##########################\n",
    "# author: Je-Hoon Song \n",
    "# ver: 2015\n",
    "EQN:\n",
    "    # edges \n",
    "    variable e2=0           # {0, 0}\n",
    "    variable e3=0           # {0, 0}\n",
    "    variable e4=0           # {0, 0}\n",
    "    variable e5=1           # {1, 1}\n",
    "    variable e6=0           # {0, 0}\n",
    "    variable e7=0           # {0, 0}\n",
    "    variable e8=1           # {1, 1}\n",
    "    variable e9=0           # {0, 0}\n",
    "    variable e10=0          # {0, 0}\n",
    "\n",
    "    # reaction 1. \n",
    "    variable S=0            # {0, 0}\n",
    "    variable k_SA=1         # {10,1000}\n",
    "    variable K_SA=1         # {10,1000}\n",
    "\n",
    "    # reaction 2.\n",
    "    variable k_BA=1         # {10,1000}\n",
    "    variable K_BA=1         # {10,1000}\n",
    "    variable ki_BA=1        # {10,1000}\n",
    "    variable Ki_BA=1        # {10,1000}\n",
    "\n",
    "    # reaction 3.\n",
    "    variable k_CA=1         # {10,1000}\n",
    "    variable K_CA=1         # {10,1000}\n",
    "    variable ki_CA=1        # {10,1000}\n",
    "    variable Ki_CA=1        # {10,1000}\n",
    "\n",
    "    # reaction 4.\n",
    "    variable k_AA=1         # {10,1000}\n",
    "    variable K_AA=1         # {10,1000}\n",
    "    variable ki_AA=1        # {10,1000}\n",
    "    variable Ki_AA=1        # {10,1000}\n",
    "\n",
    "    # reaction 5.\n",
    "    variable k_AB=1         # {10,1000}\n",
    "    variable K_AB=1         # {10,1000}\n",
    "    variable ki_AB=1        # {10,1000}\n",
    "    variable Ki_AB=1        # {10,1000}\n",
    "\n",
    "    # reaction 6.\n",
    "    variable k_CB=1         # {10,1000}\n",
    "    variable K_CB=1         # {10,1000}\n",
    "    variable ki_CB=1        # {10,1000}\n",
    "    variable Ki_CB=1        # {10,1000}\n",
    "\n",
    "    # reaction 7.\n",
    "    variable k_BB=1         # {10,1000}\n",
    "    variable K_BB=1         # {10,1000}\n",
    "    variable ki_BB=1        # {10,1000}\n",
    "    variable Ki_BB=1        # {10,1000}\n",
    "\n",
    "    # reaction 8.\n",
    "    variable k_BC=1         # {10,1000}\n",
    "    variable K_BC=1         # {10,1000}\n",
    "    variable ki_BC=1        # {10,1000}\n",
    "    variable Ki_BC=1        # {10,1000}\n",
    "\n",
    "    # reaction 9.\n",
    "    variable k_AC=1         # {10,1000}\n",
    "    variable K_AC=1         # {10,1000}\n",
    "    variable ki_AC=1        # {10,1000}\n",
    "    variable Ki_AC=1        # {10,1000}\n",
    "\n",
    "    # reaction 10.\n",
    "    variable k_CC=1         # {10,1000}\n",
    "    variable K_CC=1         # {10,1000}\n",
    "    variable ki_CC=1        # {10,1000}\n",
    "    variable Ki_CC=1        # {10,1000}\n",
    "\n",
    "    # basal de-phosphorylation\n",
    "    variable ki_EA=1        # {10,1000}\n",
    "    variable Ki_EA=1        # {10,1000}\n",
    "    variable ki_EB=1        # {10,1000}\n",
    "    variable Ki_EB=1        # {10,1000}\n",
    "    variable ki_EC=1        # {10,1000}\n",
    "    variable Ki_EC=1        # {10,1000}\n",
    "\n",
    "    # basal phosphorylation\n",
    "    variable k_FA=1         # {10,1000}\n",
    "    variable K_FA=1         # {10,1000}\n",
    "    variable k_FB=1         # {10,1000}\n",
    "    variable K_FB=1         # {10,1000}\n",
    "    variable k_FC=1         # {10,1000}\n",
    "    variable K_FC=1         # {10,1000}\n",
    "\n",
    "\n",
    "    # By assuming kD = 1, A_FUS1 = a and kS = b, respectively. The estimated \n",
    "    # values a, b are 0.6931 and 0.4019, respectively.\n",
    "\n",
    "    # fus1 expression \n",
    "    variable Afus1 = 0.6931   # {0.6931, 0.6931}\n",
    "    # variable Ke50_FUS1 = 1  # {1, 1}\n",
    "    variable kd = 1           # {1, 1}\n",
    "    variable ks = 0.4019      # {0.4019, 0.4019}\n",
    "    # variable n = 1          # {1, 1}\n",
    "\n",
    "    # molecular abundance.\n",
    "    variable At = 60.23       # {60.23, 60.23}\n",
    "    variable Bt = 38.90       # {38.90, 38.90}\n",
    "    variable Ct = 363.59      # {363.59, 363.59}\n",
    "\n",
    "    # should be constant (basal inh enzyme)\n",
    "    variable E=1            # {1, 1}\n",
    "\n",
    "     # should be constant (basal act enzyme)\n",
    "    variable F=1            # {1, 1}\n",
    "\n",
    "    # Notation for the kinetic parameters. \n",
    "    # A, B, or C are used as a suffixes to express the property of the edge. \n",
    "    # For example, AB means A -> B or A -| B. \n",
    "\n",
    "    # reaction 1. activation by input, S\n",
    "    null -> A; v_SA=\"k_SA*S*(At - A)/((At - A) + K_SA)\"\n",
    "\n",
    "    # reaction 2. B -> A or B -| A\n",
    "    null -> A; v_BA=\"k_BA*B*(At - A)/((At - A) + K_BA) * exp(-(e2-1)^2/1e-70)\" # activation\n",
    "    A -> null; vi_BA=\"ki_BA*B/((A) + Ki_BA) * exp(-(e2-2)^2/1e-70)\" # inactivation\n",
    "\n",
    "    # reaction 3. C -> A or C -| A\n",
    "    null -> A; v_CA=\"k_CA*C*(At - A)/((At - A) + K_CA) * exp(-(e3-1)^2/1e-70)\" # activation\n",
    "    A -> null; vi_CA=\"ki_CA*C/((A) + Ki_CA) * exp(-(e3-2)^2/1e-70)\" # inactivation\n",
    "\n",
    "    # reaction 4. self activation or inactivation of A\n",
    "    null -> A; v_AA=\"k_AA*A*(At - A)/((At - A) + K_AA) * exp(-(e4-1)^2/1e-70)\" # activation\n",
    "    A -> null; vi_AA=\"ki_AA*A/((A) + Ki_AA) * exp(-(e4-2)^2/1e-70)\" # inactivation\n",
    "\n",
    "    # reaction 5. A -> B or A -| B\n",
    "    null -> B; v_AB=\"k_AB*A*(Bt - B)/((Bt - B) + K_AB) * exp(-(e5-1)^2/1e-70)\" # activation\n",
    "    B -> null; vi_AB=\"ki_AB*A/(B + Ki_AB) * exp(-(e5-2)^2/1e-70)\" # inactivation\n",
    "\n",
    "    # reaction 6. C -> B or C -| B\n",
    "    null -> B; v_CB=\"k_CB*C*(Bt - B)/((Bt - B) + K_CB) * exp(-(e6-1)^2/1e-70)\" # activation\n",
    "    B -> null; vi_CB=\"ki_CB*C/(B + Ki_CB) * exp(-(e6-2)^2/1e-70)\" # inactivation\n",
    "\n",
    "    # reaction 7. self activation or inactivation of B\n",
    "    null -> B; v_BB=\"k_BB*B*(Bt - B)/((Bt - B) + K_BB) * exp(-(e7-1)^2/1e-70)\" # activation\n",
    "    B -> null; vi_BB=\"ki_BB*B/((B) + Ki_BB) * exp(-(e7-2)^2/1e-70)\" # inactivation\n",
    "\n",
    "    # reaction 8. B -> C or B -| C\n",
    "    null -> C; v_BC=\"k_BC*B*(Ct - C)/((Ct - C) + K_BC) * exp(-(e8-1)^2/1e-70)\" # activation\n",
    "    C -> null; vi_BC=\"ki_BC*B/((C) + Ki_BC) * exp(-(e8-2)^2/1e-70)\" # inactivation\n",
    "\n",
    "    # reaction 9. A -> C or A -| C\n",
    "    null -> C; v_AC=\"k_AC*A*(Ct - C)/((Ct - C) + K_AC) * exp(-(e9-1)^2/1e-70)\" # activation\n",
    "    C -> null; vi_AC=\"ki_AC*A/((C) + Ki_AC) * exp(-(e9-2)^2/1e-70)\" # inactivation\n",
    "\n",
    "    # reaction 10. self activation or inactivation of C\n",
    "    null -> C; v_CC=\"k_CC*C*(Ct - C)/((Ct - C) + K_CC) * exp(-(e10-1)^2/1e-70)\" # activation\n",
    "    C -> null; vi_CC=\"ki_CC*C/((C) + Ki_CC) * exp(-(e10-2)^2/1e-70)\" # inactivation\n",
    "\n",
    "    # reaction 11. basal de-phosphorylation \n",
    "    A -> null; vi_EA=\"ki_EA*E/(A+Ki_EA)\"\n",
    "    B -> null; vi_EB=\"ki_EB*E/(B+Ki_EB)\"\n",
    "    C -> null; vi_EC=\"ki_EC*E/(C+Ki_EC)\"\n",
    "\n",
    "    # reaction 12. basal phosphorylation\n",
    "    null -> A; v_FA=\"k_FA*F*(At - A)/((At - A) + K_FA)\"\n",
    "    null -> B; v_FB=\"k_FB*F*(Bt - B)/((Bt - B) + K_FB)\"\n",
    "    null -> C; v_FC=\"k_FC*F*(Ct - C)/((Ct - C) + K_FC)\"\n",
    "\n",
    "    # reaction 13. Fus1-GFP expression.\n",
    "    # null -> FUS1; v_FUS1=\"FUS1MAX*C^n/(C^n + Ke50_FUS1^n)\"\n",
    "\n",
    "    # Since FUS3pp and FUS1 has linear relationshiop, we modeled it as a \n",
    "    # linear differential equation. as following: \n",
    "    # dFUS1/dt = A_FUS1 * Fus3pp + kS - kD*FUS1. By assuming kD = 1, \n",
    "    # A_FUS1 = a and kS = b, respectively. The estimated values a, b are \n",
    "    # 0.6931 and 0.4019, respectively.\n",
    "    null -> FUS1; v_FUS1=\"Afus1*C\"\n",
    "    null -> FUS1; v_FUS1_basal=\"ks\"\n",
    "    FUS1 -> null; v_FUS1d=\"kd\"\n",
    "\n",
    "INIT: \n",
    "    A = 0.01 \n",
    "    B = 0.01\n",
    "    C = 0.01\n",
    "    FUS1 = 0.01\n",
    "\n",
    "MOIETY:\n",
    "    # independent Dsha, Dshi\n",
    "\n",
    "PROBE:\n",
    "    # probe WNT\n",
    "    \n",
    "BIFURC_PARAM:\n",
    "    # W\n",
    "\n",
    "CONFIG:\n",
    "    t_final = 120\n",
    "    compartment_volume = 1e-15\n",
    "    # easystoch_sample_times = 1.0 2.0\n",
    "    #\n"
   ]
  },
  {
   "cell_type": "markdown",
   "metadata": {},
   "source": [
    "### SNU & Public Data Loading "
   ]
  },
  {
   "cell_type": "raw",
   "metadata": {},
   "source": [
    "from os.path import dirname as _d, join as _j \n",
    "import pandas as _pd \n",
    "import pytest as _pytest\n",
    "from yeast_2018 import downloader as _down\n",
    "\n",
    "_rpath = _down.abs_remote_path('opt-results.tar') \n",
    "_lfile = _down.download(remote_path=_rpath) \n",
    "_datafile = _down.untar(_lfile) \n",
    "\n",
    "_datadir = _j(_d(_lfile), 'opt-results')\n",
    "\n",
    "# import ipdb; ipdb.set_trace() \n",
    "\n",
    "#\n",
    "# public data loading ... \n",
    "#\n",
    "\n",
    "def load_pub():\n",
    "    _cols = ['AID','e2','e3','e4','e5','e6','e7','e8','e9',\n",
    "            'e10', 'S','k_SA','K_SA','k_BA','K_BA','ki_BA',\n",
    "            'Ki_BA','k_CA','K_CA','ki_CA', 'Ki_CA','k_AA',\n",
    "            'K_AA','ki_AA','Ki_AA','k_AB','K_AB','ki_AB',\n",
    "            'Ki_AB', 'k_CB','K_CB','ki_CB','Ki_CB','k_BB',\n",
    "            'K_BB','ki_BB','Ki_BB','k_BC','K_BC', 'ki_BC',\n",
    "            'Ki_BC','k_AC','K_AC','ki_AC','Ki_AC','k_CC',\n",
    "            'K_CC','ki_CC','Ki_CC', 'ki_EA','Ki_EA','ki_EB',\n",
    "            'Ki_EB','ki_EC','Ki_EC','k_FA','K_FA','k_FB',\n",
    "            'K_FB','k_FC', 'K_FC','FUS1MAX','Ke50_FUS1','kd',\n",
    "            'ks','n','At','Bt','Ct','E','F', 'fVal']\n",
    "    myfile = _j(_datadir, 'opt-with-published', 'summary.csv') \n",
    "    dataset = _pd.read_csv(myfile, names=_cols) \n",
    "    # from ipdb import set_trace \n",
    "\n",
    "    return dataset \n",
    "\n",
    "#\n",
    "# SNU data loading ... \n",
    "#\n",
    "\n",
    "def load_snu():\n",
    "    myfile = _j(_datadir, 'opt-with-snu', 'reduced.mat.csv') \n",
    "    dataset = _pd.read_csv(myfile) \n",
    "    # from ipdb import set_trace \n",
    "\n",
    "    return dataset \n",
    "\n",
    "def test_this():\n",
    "    from yeast_2018 import dataset \n",
    "\n",
    "    pub = dataset.load_pub() \n",
    "    snu = dataset.load_snu() \n",
    "\n",
    "    import ipdb; ipdb.set_trace()\n"
   ]
  },
  {
   "cell_type": "code",
   "execution_count": 23,
   "metadata": {},
   "outputs": [
    {
     "data": {
      "text/plain": [
       "<matplotlib.axes._subplots.AxesSubplot at 0x7f4824b04b70>"
      ]
     },
     "execution_count": 23,
     "metadata": {},
     "output_type": "execute_result"
    },
    {
     "data": {
      "image/png": "[encoded data removed]",
      "text/plain": [
       "<Figure size 432x288 with 1 Axes>"
      ]
     },
     "metadata": {
      "image/png": {
       "height": 250,
       "width": 370
      }
     },
     "output_type": "display_data"
    }
   ],
   "source": [
    "%matplotlib inline  \n",
    "import tellurium as te\n",
    "modelstring = 'S1 -> S2; k1*S1; k1 = 0.1; S1 = 40'\n",
    "# \n",
    "rr=te.loadAntimonyModel(modelstring)\n",
    "# Simulate from time zero to 40 time units\n",
    "result = rr.simulate (0, 40)\n",
    "#422             # Simulate on a grid with 10 points from start 0 to end time 40\n",
    "rr.reset()\n",
    "result = rr.simulate (0, 40, 10)\n",
    "#425             # Simulate from time zero to 40 time units using the given selection list\n",
    "#426             # This means that the first column will be time and the second column species S1\n",
    "rr.reset()\n",
    "result = rr.simulate (0, 40, selections=['time', 'S1'])\n",
    "#429             # Simulate from time zero to 40 time units, on a grid with 20 points\n",
    "#430             # using the give selection list\n",
    "rr.reset()\n",
    "result = rr.simulate (0, 40, 20, ['time', 'S1'])\n",
    "mydf = pd.DataFrame(result, columns=result.colnames)\n",
    "mydf.plot()"
   ]
  },
  {
   "cell_type": "raw",
   "metadata": {},
   "source": [
    "### 3.31 11:30 "
   ]
  },
  {
   "cell_type": "markdown",
   "metadata": {},
   "source": [
    "<img src=\"aa.png\">"
   ]
  },
  {
   "cell_type": "code",
   "execution_count": null,
   "metadata": {},
   "outputs": [],
   "source": []
  }
 ],
 "metadata": {
  "kernelspec": {
   "display_name": "Python 3",
   "language": "python",
   "name": "python3"
  },
  "language_info": {
   "codemirror_mode": {
    "name": "ipython",
    "version": 3
   },
   "file_extension": ".py",
   "mimetype": "text/x-python",
   "name": "python",
   "nbconvert_exporter": "python",
   "pygments_lexer": "ipython3",
   "version": "3.5.2"
  }
 },
 "nbformat": 4,
 "nbformat_minor": 2
}
